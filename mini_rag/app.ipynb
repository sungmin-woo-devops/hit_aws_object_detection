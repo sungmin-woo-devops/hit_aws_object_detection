{
 "cells": [
  {
   "cell_type": "markdown",
   "id": "779c6fe9",
   "metadata": {},
   "source": []
  },
  {
   "cell_type": "code",
   "execution_count": 1,
   "id": "71228677",
   "metadata": {},
   "outputs": [
    {
     "data": {
      "text/plain": [
       "False"
      ]
     },
     "execution_count": 1,
     "metadata": {},
     "output_type": "execute_result"
    }
   ],
   "source": [
    "# pip install langchain langchain-community langchain-openai google-api-python-client google-auth-httplib2 google-auth-oauthlib faiss-cpu pymupdf python-dotenv\n",
    "from dotenv import load_dotenv; load_dotenv()"
   ]
  },
  {
   "cell_type": "code",
   "execution_count": 2,
   "id": "7a8c4913",
   "metadata": {},
   "outputs": [],
   "source": [
    "import io, os, pathlib, mimetypes\n",
    "from typing import List, Dict, Any, Optional\n",
    "from pathlib import Path\n",
    "from googleapiclient.discovery import build\n",
    "from googleapiclient.http import MediaIoBaseDownload\n",
    "from google.oauth2.service_account import Credentials\n",
    "from google_auth_oauthlib.flow import InstalledAppFlow\n",
    "from google.auth.transport.requests import Request\n",
    "\n",
    "from langchain_community.document_loaders import PyMuPDFLoader\n",
    "from langchain.text_splitter import RecursiveCharacterTextSplitter\n",
    "from langchain_core.documents import Document\n",
    "from langchain_openai import OpenAIEmbeddings, ChatOpenAI\n",
    "from langchain_community.vectorstores import FAISS\n",
    "from langchain.chains import RetrievalQA\n",
    "from langchain_core.prompts import ChatPromptTemplate"
   ]
  },
  {
   "cell_type": "markdown",
   "id": "0274f043",
   "metadata": {},
   "source": [
    "#### Config"
   ]
  },
  {
   "cell_type": "raw",
   "id": "883cc300",
   "metadata": {
    "vscode": {
     "languageId": "raw"
    }
   },
   "source": [
    "- 인증 관련 설정: SCOPES, CREDENTIALS, TOKEN\n",
    "- 다운로드 저장 경로: OUTDIR\n",
    "- 어떤 드라이브/폴더에서 가져올지 대상 지정: FOLDER_ID, SHARED_DRIVE_ID"
   ]
  },
  {
   "cell_type": "code",
   "execution_count": null,
   "id": "e3f2e2a7",
   "metadata": {},
   "outputs": [],
   "source": [
    "# Google Drive API 접근 권한 범위(Scope) 지정\n",
    "# \"drive.readonly\" : 읽기 전용 접근만 허용\n",
    "# 다른 권한이 필요하면 Scope를 바꿔야 하지만 RAG 데이터 수집이라면 readonly가 안전하고 충분\n",
    "SCOPES = [\"https://www.googleapis.com/auth/drive.readonly\"]"
   ]
  },
  {
   "cell_type": "code",
   "execution_count": null,
   "id": "211f5ec1",
   "metadata": {},
   "outputs": [],
   "source": [
    "# 최초 OAuth 인증 후 발급받은 Access Token / Refresh Token을 로컬에 저장하는 파일\n",
    "# 한 번 발급받으면 이 토큰을 재사용하기 때문에, 매번 로그인할 필요가 없습니다.\n",
    "# 토큰이 만료되면 자동으로 Refresh Token으로 재발급합니다.\n",
    "CREDENTIALS = \"credentials.json\""
   ]
  },
  {
   "cell_type": "code",
   "execution_count": null,
   "id": "32210085",
   "metadata": {},
   "outputs": [],
   "source": [
    "# Google Drive에서 다운로드한 파일을 저장할 로컬 경로\n",
    "# 없는 경우 스크립트 생성 시 자동으로 생성\n",
    "OUTDIR = pathlib.Path(\"data/raw\")"
   ]
  },
  {
   "cell_type": "code",
   "execution_count": null,
   "id": "8d130c97",
   "metadata": {},
   "outputs": [],
   "source": [
    "# 대상 Google Drive 폴더\n",
    "# 대상 폴더의 ID를 환경변수 DRIVE_FOLDER_ID에서 읽어옵니다.\n",
    "# 예: https://drive.google.com/drive/folders/<DRIVE_FOLDER_ID>\n",
    "FOLDER_ID = os.getenv(\"DRIVE_FOLDER_ID\")"
   ]
  },
  {
   "cell_type": "code",
   "execution_count": null,
   "id": "0bde8904",
   "metadata": {
    "vscode": {
     "languageId": "powershell"
    }
   },
   "outputs": [],
   "source": [
    "# 공유 드라이브(Shared Drive) 전체의 ID\n",
    "# 공유 드라이브 내부 폴더를 대상으로 할 때만 필요\n",
    "# 예: https://drive.google.com/drive/folders/<SHARED_DRIVE_ID>\n",
    "# 예: 일반 개인 드라이브의 '나와 공유됨' 폴더라면 None으로 둡니다.\n",
    "SHARED_DRIVE_ID = os.getenv(\"SHARED_DRIVE_ID\")\n"
   ]
  },
  {
   "cell_type": "raw",
   "id": "76df8c5c",
   "metadata": {},
   "source": []
  },
  {
   "cell_type": "raw",
   "id": "bae9b344",
   "metadata": {},
   "source": []
  }
 ],
 "metadata": {
  "kernelspec": {
   "display_name": "venv",
   "language": "python",
   "name": "python3"
  },
  "language_info": {
   "codemirror_mode": {
    "name": "ipython",
    "version": 3
   },
   "file_extension": ".py",
   "mimetype": "text/x-python",
   "name": "python",
   "nbconvert_exporter": "python",
   "pygments_lexer": "ipython3",
   "version": "3.10.11"
  }
 },
 "nbformat": 4,
 "nbformat_minor": 5
}
